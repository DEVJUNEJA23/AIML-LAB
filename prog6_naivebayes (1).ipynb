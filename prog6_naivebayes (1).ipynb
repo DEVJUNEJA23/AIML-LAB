{
 "cells": [
  {
   "cell_type": "code",
   "execution_count": 1,
   "metadata": {
    "colab": {
     "base_uri": "https://localhost:8080/"
    },
    "id": "l-IKDpRZdIrA",
    "outputId": "e3cef7cd-104c-43eb-e7db-bb1d26bf943a"
   },
   "outputs": [
    {
     "name": "stdout",
     "output_type": "stream",
     "text": [
      "Accuracy score 0.8\n",
      "Precision score: 0.7741935483870968\n",
      "F1 score: 0.7058823529411764\n",
      "Confusion Matrix: [[56  7]\n",
      " [13 24]]\n"
     ]
    }
   ],
   "source": [
    "import pandas as pd\n",
    "from sklearn.model_selection import train_test_split\n",
    "from sklearn.metrics import accuracy_score, precision_score, f1_score, confusion_matrix\n",
    "\n",
    "class NaiveBayesClassifier:\n",
    "    def __init__(self, X, y):\n",
    "        self.X, self.y = X, y\n",
    "        self.N = len(self.X)\n",
    "        self.dim = len(self.X[0])\n",
    "        self.attrs = [[] for _ in range(self.dim)]\n",
    "        self.output_dom = {}\n",
    "        self.data = []\n",
    "\n",
    "        for i in range(len(self.X)):\n",
    "            for j in range(self.dim):\n",
    "                if not self.X[i][j] in self.attrs[j]:\n",
    "                    self.attrs[j].append(self.X[i][j])\n",
    "\n",
    "            if not self.y[i] in self.output_dom.keys():\n",
    "                self.output_dom[self.y[i]] = 1\n",
    "            else:\n",
    "                self.output_dom[self.y[i]] += 1\n",
    "            self.data.append([self.X[i], self.y[i]])\n",
    "\n",
    "    def classify(self, entry):\n",
    "        solve = None\n",
    "        max_arg = -1\n",
    "        for y in self.output_dom.keys():\n",
    "            prob = self.output_dom[y] / self.N\n",
    "            for i in range(self.dim):\n",
    "                cases = [x for x in self.data if x[0][i] == entry[i] and x[1] == y]\n",
    "                n = len(cases)\n",
    "                prob *= n / self.N\n",
    "\n",
    "            if prob > max_arg:\n",
    "                max_arg = prob\n",
    "                solve = y\n",
    "        return solve\n",
    "\n",
    "data = pd.read_csv(\"Social_Network_Ads.csv\")\n",
    "X = data.iloc[:,2:4].values\n",
    "y = data.iloc[:,-1].values\n",
    "X_train,X_test,y_train,y_test = train_test_split(X,y,test_size=0.25, random_state=42)\n",
    "nbc = NaiveBayesClassifier(X_train, y_train)\n",
    "y_pred = [nbc.classify(entry) for entry in X_test]\n",
    "\n",
    "print(f\"Accuracy score {accuracy_score(y_test,y_pred)}\")\n",
    "print(f\"Precision score: {precision_score(y_test, y_pred)}\")\n",
    "print(f\"F1 score: {f1_score(y_test, y_pred)}\")\n",
    "print(f\"Confusion Matrix: {confusion_matrix(y_test, y_pred)}\")\n"
   ]
  },
  {
   "cell_type": "code",
   "execution_count": null,
   "metadata": {},
   "outputs": [],
   "source": []
  }
 ],
 "metadata": {
  "colab": {
   "provenance": []
  },
  "kernelspec": {
   "display_name": "Python 3 (ipykernel)",
   "language": "python",
   "name": "python3"
  },
  "language_info": {
   "codemirror_mode": {
    "name": "ipython",
    "version": 3
   },
   "file_extension": ".py",
   "mimetype": "text/x-python",
   "name": "python",
   "nbconvert_exporter": "python",
   "pygments_lexer": "ipython3",
   "version": "3.9.18"
  }
 },
 "nbformat": 4,
 "nbformat_minor": 4
}
