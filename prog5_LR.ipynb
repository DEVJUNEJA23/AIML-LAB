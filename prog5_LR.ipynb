{
 "cells": [
  {
   "cell_type": "code",
   "execution_count": 12,
   "metadata": {
    "colab": {
     "base_uri": "https://localhost:8080/"
    },
    "id": "sqnEHxaIyQQo",
    "outputId": "b0af8f56-93b0-4a34-a23b-aa0a06c18606"
   },
   "outputs": [
    {
     "name": "stdout",
     "output_type": "stream",
     "text": [
      "Accuracy score 0.8991228070175439\n",
      "Precision score: 0.8974358974358975\n",
      "F1 score: 0.8588957055214724\n",
      "Confusion Matrix: [[135   8]\n",
      " [ 15  70]]\n"
     ]
    },
    {
     "name": "stderr",
     "output_type": "stream",
     "text": [
      "C:\\Users\\dev23\\AppData\\Local\\Temp\\ipykernel_10020\\746685825.py:10: RuntimeWarning: overflow encountered in exp\n",
      "  return 1.0 / (1.0 + np.exp(-z))\n"
     ]
    }
   ],
   "source": [
    "import numpy as np\n",
    "import pandas as pd\n",
    "from sklearn import datasets\n",
    "from sklearn.model_selection import train_test_split\n",
    "from sklearn.metrics import classification_report\n",
    "from sklearn.metrics import accuracy_score, precision_score, f1_score, confusion_matrix\n",
    "\n",
    "\n",
    "def sigmoid(z):\n",
    "    return 1.0 / (1.0 + np.exp(-z))\n",
    "\n",
    "def gradient(X, h, y):\n",
    "    return np.dot(X.T, (h - y)) / y.shape[0]\n",
    "\n",
    "def logistic_regression(X, y, num_iterations, learning_rate):\n",
    "    # Initialize weights\n",
    "    weights = np.zeros(X.shape[1])\n",
    "\n",
    "    for i in range(num_iterations):\n",
    "        z = np.dot(X, weights)\n",
    "        h = sigmoid(z)\n",
    "        gradient_val = gradient(X, h, y)\n",
    "\n",
    "        weights -= learning_rate * gradient_val\n",
    "\n",
    "    return weights\n",
    "    \n",
    "\n",
    "iris = pd.read_csv(\"Breastcancer_data.csv\")\n",
    "X = iris.iloc[:,2:32].values \n",
    "X = np.float64(X)\n",
    "y = iris.iloc[:,1].values \n",
    "y = np.where(y == 'M', 1, 0)\n",
    "y.shape\n",
    "\n",
    "\n",
    "X_train, X_test, y_train, y_test = train_test_split(X, y, test_size=0.4, random_state=9)\n",
    "\n",
    "\n",
    "weights = logistic_regression(X_train, y_train, num_iterations=200, learning_rate=0.1)\n",
    "\n",
    "\n",
    "y_pred = sigmoid(np.dot(X_test, weights)) > 0.5\n",
    "\n",
    "print(f\"Accuracy score {accuracy_score(y_test,y_pred)}\")\n",
    "print(f\"Precision score: {precision_score(y_test, y_pred,)}\")\n",
    "print(f\"F1 score: {f1_score(y_test, y_pred,)}\")\n",
    "print(f\"Confusion Matrix: {confusion_matrix(y_test, y_pred)}\")"
   ]
  },
  {
   "cell_type": "code",
   "execution_count": null,
   "metadata": {},
   "outputs": [],
   "source": []
  }
 ],
 "metadata": {
  "colab": {
   "provenance": []
  },
  "kernelspec": {
   "display_name": "Python 3 (ipykernel)",
   "language": "python",
   "name": "python3"
  },
  "language_info": {
   "codemirror_mode": {
    "name": "ipython",
    "version": 3
   },
   "file_extension": ".py",
   "mimetype": "text/x-python",
   "name": "python",
   "nbconvert_exporter": "python",
   "pygments_lexer": "ipython3",
   "version": "3.9.18"
  }
 },
 "nbformat": 4,
 "nbformat_minor": 4
}
